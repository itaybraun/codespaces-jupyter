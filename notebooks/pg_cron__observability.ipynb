{
 "cells": [
  {
   "cell_type": "markdown",
   "metadata": {},
   "source": [
    "<!DOCTYPE html>\n",
    "<html lang=\"en\">\n",
    "<head>\n",
    "    <meta charset=\"UTF-8\">\n",
    "    <title>pg_cron</title>\n",
    "    <style>\n",
    "        .title {\n",
    "            color: lightblue;\n",
    "            font-size: 2.5em;\n",
    "        }\n",
    "        .description {\n",
    "            font-size: 1.2em;\n",
    "        }\n",
    "        .description-title {\n",
    "            color: orange;\n",
    "            font-weight: bold;\n",
    "        }\n",
    "        .version-title {\n",
    "            color: orange;\n",
    "            font-weight: bold;\n",
    "            font-size: 1.2em;\n",
    "        }\n",
    "        .version-number {\n",
    "            color: white;\n",
    "            font-size: 1.2em;\n",
    "        }\n",
    "    </style>\n",
    "</head>\n",
    "<body>\n",
    "    <div class=\"title\">pg_cron</div>\n",
    "    <div class=\"description\">\n",
    "        <span class=\"description-title\">Description:</span> pg_cron is a PostgreSQL extension that allows you to run SQL commands on a schedule. It is particularly useful for automating routine database tasks without needing an external job scheduler. With pg_cron, you can schedule regular maintenance tasks, data transformations, backups, monitoring queries, and more directly from within your PostgreSQL database.\n",
    "    </div>\n",
    "    <div>\n",
    "        <span class=\"version-title\">Version:</span> <span class=\"version-number\">1.0</span>\n",
    "    </div>\n",
    "</body>\n",
    "</html>\n"
   ]
  },
  {
   "cell_type": "markdown",
   "metadata": {},
   "source": [
    "### TODO\n",
    "- Find the DB in pg_settings\n",
    "- Show all pg_settings\n",
    "-- Raise an error if the extension can't be found\n"
   ]
  },
  {
   "cell_type": "code",
   "execution_count": 4,
   "metadata": {},
   "outputs": [
    {
     "data": {
      "text/html": [
       "<div>\n",
       "<style scoped>\n",
       "    .dataframe tbody tr th:only-of-type {\n",
       "        vertical-align: middle;\n",
       "    }\n",
       "\n",
       "    .dataframe tbody tr th {\n",
       "        vertical-align: top;\n",
       "    }\n",
       "\n",
       "    .dataframe thead th {\n",
       "        text-align: right;\n",
       "    }\n",
       "</style>\n",
       "<table border=\"1\" class=\"dataframe\">\n",
       "  <thead>\n",
       "    <tr style=\"text-align: right;\">\n",
       "      <th></th>\n",
       "      <th>number_of_rows_in_cron_job</th>\n",
       "      <th>number_of_rows_in_cron_job_run_details</th>\n",
       "      <th>oldest_run_date</th>\n",
       "    </tr>\n",
       "  </thead>\n",
       "  <tbody>\n",
       "    <tr>\n",
       "      <th>0</th>\n",
       "      <td>12</td>\n",
       "      <td>782763</td>\n",
       "      <td>2024-05-17 10:55:00.004107+00:00</td>\n",
       "    </tr>\n",
       "  </tbody>\n",
       "</table>\n",
       "</div>"
      ],
      "text/plain": [
       "   number_of_rows_in_cron_job  number_of_rows_in_cron_job_run_details  \\\n",
       "0                          12                                  782763   \n",
       "\n",
       "                   oldest_run_date  \n",
       "0 2024-05-17 10:55:00.004107+00:00  "
      ]
     },
     "execution_count": 4,
     "metadata": {},
     "output_type": "execute_result"
    }
   ],
   "source": [
    "\n",
    "import pandas as pd\n",
    "import configparser\n",
    "import importlib\n",
    "import db_ops\n",
    "importlib.reload(db_ops)\n",
    "from db_ops import DB_Ops\n",
    "\n",
    "# Read the con_str from the Config file\n",
    "config = configparser.ConfigParser()\n",
    "config.read_file(open(r'../db_ops.cfg'))\n",
    "con_str = config.get('con_str', 'PG_TEMBO_DEV1') \n",
    "\n",
    "# Create an instance of DB_Ops\n",
    "db_ops = DB_Ops()\n",
    "sql = db_ops.get_sql_for_operation(operation_name = 'show_pg_cron_tables_overview')\n",
    "# print (sql)\n",
    "df = db_ops.execute_sql_query(con_str, sql)\n",
    "df"
   ]
  },
  {
   "cell_type": "code",
   "execution_count": 2,
   "metadata": {},
   "outputs": [],
   "source": [
    "sql_job_history = \"\"\"\n",
    "SELECT\n",
    "    j.jobid,\n",
    "    j.jobname,\n",
    "    COUNT(jrd.*) AS total_runs,\n",
    "    SUM(CASE WHEN jrd.status = 'succeeded' THEN 1 ELSE 0 END) AS success_count,\n",
    "    SUM(CASE WHEN jrd.status = 'failed' THEN 1 ELSE 0 END) AS failure_count,\n",
    "    ROUND((SUM(CASE WHEN jrd.status = 'succeeded' THEN 1 ELSE 0 END)::DECIMAL / COUNT(jrd.*)) * 100, 2) AS success_percentage,\n",
    "    ROUND((SUM(CASE WHEN jrd.status = 'failed' THEN 1 ELSE 0 END)::DECIMAL / COUNT(jrd.*)) * 100, 2) AS failure_percentage\n",
    "FROM\n",
    "    cron.job j\n",
    "JOIN\n",
    "    cron.job_run_details jrd ON j.jobid = jrd.jobid\n",
    "WHERE\n",
    "    jrd.start_time >= CURRENT_DATE - INTERVAL '30 days'\n",
    "GROUP BY\n",
    "    j.jobid, j.jobname\n",
    "ORDER BY\n",
    "    j.jobid;\n",
    "\"\"\""
   ]
  },
  {
   "cell_type": "code",
   "execution_count": 3,
   "metadata": {},
   "outputs": [],
   "source": [
    "job_history = \"\"\"\n",
    "SELECT\n",
    " \tjrd.runid ,\n",
    "    jrd.jobid,\n",
    "    j.jobname,\n",
    "    jrd.start_time ,\n",
    "    jrd.end_time - jrd.start_time  AS duration, \n",
    "    jrd.status,\n",
    "    jrd.return_message\n",
    "FROM\n",
    "    cron.job j\n",
    "JOIN\n",
    "    cron.job_run_details jrd ON j.jobid = jrd.jobid\n",
    "WHERE\n",
    "    jrd.jobid = 9\n",
    "ORDER BY\n",
    "    jrd.start_time DESC\n",
    "LIMIT 100;\n",
    "\n",
    "\"\"\""
   ]
  }
 ],
 "metadata": {
  "kernelspec": {
   "display_name": "Python 3",
   "language": "python",
   "name": "python3"
  },
  "language_info": {
   "codemirror_mode": {
    "name": "ipython",
    "version": 3
   },
   "file_extension": ".py",
   "mimetype": "text/x-python",
   "name": "python",
   "nbconvert_exporter": "python",
   "pygments_lexer": "ipython3",
   "version": "3.10.13"
  }
 },
 "nbformat": 4,
 "nbformat_minor": 2
}
