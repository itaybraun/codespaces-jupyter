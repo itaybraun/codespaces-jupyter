{
 "cells": [
  {
   "cell_type": "markdown",
   "metadata": {},
   "source": [
    "# PG Databases"
   ]
  },
  {
   "cell_type": "markdown",
   "metadata": {},
   "source": [
    "Shows DB Size \n",
    "Shows DB Activity\n",
    "\n",
    "TODO: \n",
    "- The Notenook uses local methods. Instead, it should use the `DB_Ops` class."
   ]
  },
  {
   "cell_type": "code",
   "execution_count": 10,
   "metadata": {},
   "outputs": [],
   "source": [
    "## Read the Connection string from the configu file. \n",
    "import configparser\n",
    "\n",
    "config = configparser.ConfigParser()\n",
    "config.read_file(open(r'../db_ops.cfg'))\n",
    "\n",
    "con_str = config.get('con_str', 'PG_TEMBO_DEV1') "
   ]
  },
  {
   "cell_type": "code",
   "execution_count": 12,
   "metadata": {},
   "outputs": [],
   "source": [
    "import psycopg2\n",
    "import pandas as pd\n",
    "import matplotlib.pyplot as plt\n",
    "from sqlalchemy import create_engine\n",
    "from sqlalchemy.exc import SQLAlchemyError\n",
    "from psycopg2 import OperationalError\n",
    "\n",
    "## Creates a connection to the database using SQLAlchemy.\n",
    "## Returns:connection: The connection object if successful, None otherwise.\n",
    "def create_connection(con_str):\n",
    "    \n",
    "    try:\n",
    "        engine = create_engine(con_str)\n",
    "        connection = engine.connect()\n",
    "        print(\"Opened Connection\")\n",
    "        return connection\n",
    "    except OperationalError as e:\n",
    "        print(\"OperationalError: Could not connect to the database. Please check the connection details and ensure the database server is running.\")\n",
    "        print(f\"Details: {e}\")\n",
    "    except SQLAlchemyError as e:\n",
    "        print(\"SQLAlchemyError: An error occurred while connecting to the database.\")\n",
    "        print(f\"Details: {e}\")\n",
    "    except Exception as e:\n",
    "        print(\"An unexpected error occurred while connecting to the database.\")\n",
    "        print(f\"Details: {e}\")\n",
    "    \n",
    "    return None\n",
    "\n",
    "## Execute a query \n",
    "def execute_sql_query(con_str, sql_command):\n",
    "    try:\n",
    "        connection = create_connection(con_str)\n",
    "        df = pd.read_sql_query(sql_command, connection)\n",
    "        return df\n",
    "    except (SQLAlchemyError, ValueError) as e:\n",
    "        # Handle any errors or raised exceptions\n",
    "        raise e\n",
    "    finally:\n",
    "        if connection:\n",
    "            connection.close()"
   ]
  },
  {
   "cell_type": "code",
   "execution_count": 11,
   "metadata": {},
   "outputs": [
    {
     "name": "stdout",
     "output_type": "stream",
     "text": [
      "Opened Connection\n"
     ]
    },
    {
     "data": {
      "text/html": [
       "<style type=\"text/css\">\n",
       "#T_be878 th {\n",
       "  text-align: center;\n",
       "}\n",
       "#T_be878_row0_col0, #T_be878_row0_col1, #T_be878_row0_col2, #T_be878_row0_col3, #T_be878_row1_col0, #T_be878_row1_col1, #T_be878_row1_col2, #T_be878_row1_col3, #T_be878_row2_col0, #T_be878_row2_col1, #T_be878_row2_col2, #T_be878_row2_col3, #T_be878_row3_col0, #T_be878_row3_col1, #T_be878_row3_col2, #T_be878_row3_col3, #T_be878_row4_col0, #T_be878_row4_col1, #T_be878_row4_col2, #T_be878_row4_col3, #T_be878_row5_col0, #T_be878_row5_col1, #T_be878_row5_col3, #T_be878_row6_col0, #T_be878_row6_col1, #T_be878_row6_col2, #T_be878_row6_col3, #T_be878_row7_col0, #T_be878_row7_col1, #T_be878_row7_col2, #T_be878_row7_col3, #T_be878_row8_col0, #T_be878_row8_col1, #T_be878_row8_col2, #T_be878_row8_col3, #T_be878_row9_col0, #T_be878_row9_col1, #T_be878_row9_col2, #T_be878_row9_col3 {\n",
       "  text-align: left;\n",
       "}\n",
       "#T_be878_row5_col2 {\n",
       "  text-align: left;\n",
       "  background-color: red;\n",
       "}\n",
       "</style>\n",
       "<table id=\"T_be878\">\n",
       "  <thead>\n",
       "    <tr>\n",
       "      <th class=\"blank level0\" >&nbsp;</th>\n",
       "      <th id=\"T_be878_level0_col0\" class=\"col_heading level0 col0\" >db_id</th>\n",
       "      <th id=\"T_be878_level0_col1\" class=\"col_heading level0 col1\" >database_name</th>\n",
       "      <th id=\"T_be878_level0_col2\" class=\"col_heading level0 col2\" >database_size_kb</th>\n",
       "      <th id=\"T_be878_level0_col3\" class=\"col_heading level0 col3\" >db_size</th>\n",
       "    </tr>\n",
       "  </thead>\n",
       "  <tbody>\n",
       "    <tr>\n",
       "      <th id=\"T_be878_level0_row0\" class=\"row_heading level0 row0\" >0</th>\n",
       "      <td id=\"T_be878_row0_col0\" class=\"data row0 col0\" >5</td>\n",
       "      <td id=\"T_be878_row0_col1\" class=\"data row0 col1\" >postgres</td>\n",
       "      <td id=\"T_be878_row0_col2\" class=\"data row0 col2\" >775356</td>\n",
       "      <td id=\"T_be878_row0_col3\" class=\"data row0 col3\" >757 MB</td>\n",
       "    </tr>\n",
       "    <tr>\n",
       "      <th id=\"T_be878_level0_row1\" class=\"row_heading level0 row1\" >1</th>\n",
       "      <td id=\"T_be878_row1_col0\" class=\"data row1 col0\" >16385</td>\n",
       "      <td id=\"T_be878_row1_col1\" class=\"data row1 col1\" >app</td>\n",
       "      <td id=\"T_be878_row1_col2\" class=\"data row1 col2\" >7524</td>\n",
       "      <td id=\"T_be878_row1_col3\" class=\"data row1 col3\" >7525 kB</td>\n",
       "    </tr>\n",
       "    <tr>\n",
       "      <th id=\"T_be878_level0_row2\" class=\"row_heading level0 row2\" >2</th>\n",
       "      <td id=\"T_be878_row2_col0\" class=\"data row2 col0\" >19236</td>\n",
       "      <td id=\"T_be878_row2_col1\" class=\"data row2 col1\" >metis_ts_dev</td>\n",
       "      <td id=\"T_be878_row2_col2\" class=\"data row2 col2\" >217228</td>\n",
       "      <td id=\"T_be878_row2_col3\" class=\"data row2 col3\" >212 MB</td>\n",
       "    </tr>\n",
       "    <tr>\n",
       "      <th id=\"T_be878_level0_row3\" class=\"row_heading level0 row3\" >3</th>\n",
       "      <td id=\"T_be878_row3_col0\" class=\"data row3 col0\" >144092</td>\n",
       "      <td id=\"T_be878_row3_col1\" class=\"data row3 col1\" >metis</td>\n",
       "      <td id=\"T_be878_row3_col2\" class=\"data row3 col2\" >7612</td>\n",
       "      <td id=\"T_be878_row3_col3\" class=\"data row3 col3\" >7613 kB</td>\n",
       "    </tr>\n",
       "    <tr>\n",
       "      <th id=\"T_be878_level0_row4\" class=\"row_heading level0 row4\" >4</th>\n",
       "      <td id=\"T_be878_row4_col0\" class=\"data row4 col0\" >16556</td>\n",
       "      <td id=\"T_be878_row4_col1\" class=\"data row4 col1\" >demo</td>\n",
       "      <td id=\"T_be878_row4_col2\" class=\"data row4 col2\" >797316</td>\n",
       "      <td id=\"T_be878_row4_col3\" class=\"data row4 col3\" >779 MB</td>\n",
       "    </tr>\n",
       "    <tr>\n",
       "      <th id=\"T_be878_level0_row5\" class=\"row_heading level0 row5\" >5</th>\n",
       "      <td id=\"T_be878_row5_col0\" class=\"data row5 col0\" >185112</td>\n",
       "      <td id=\"T_be878_row5_col1\" class=\"data row5 col1\" >db_10</td>\n",
       "      <td id=\"T_be878_row5_col2\" class=\"data row5 col2\" >1375220</td>\n",
       "      <td id=\"T_be878_row5_col3\" class=\"data row5 col3\" >1343 MB</td>\n",
       "    </tr>\n",
       "    <tr>\n",
       "      <th id=\"T_be878_level0_row6\" class=\"row_heading level0 row6\" >6</th>\n",
       "      <td id=\"T_be878_row6_col0\" class=\"data row6 col0\" >193461</td>\n",
       "      <td id=\"T_be878_row6_col1\" class=\"data row6 col1\" >metis_1</td>\n",
       "      <td id=\"T_be878_row6_col2\" class=\"data row6 col2\" >212548</td>\n",
       "      <td id=\"T_be878_row6_col3\" class=\"data row6 col3\" >208 MB</td>\n",
       "    </tr>\n",
       "    <tr>\n",
       "      <th id=\"T_be878_level0_row7\" class=\"row_heading level0 row7\" >7</th>\n",
       "      <td id=\"T_be878_row7_col0\" class=\"data row7 col0\" >275674</td>\n",
       "      <td id=\"T_be878_row7_col1\" class=\"data row7 col1\" >dvdrental</td>\n",
       "      <td id=\"T_be878_row7_col2\" class=\"data row7 col2\" >17884</td>\n",
       "      <td id=\"T_be878_row7_col3\" class=\"data row7 col3\" >17 MB</td>\n",
       "    </tr>\n",
       "    <tr>\n",
       "      <th id=\"T_be878_level0_row8\" class=\"row_heading level0 row8\" >8</th>\n",
       "      <td id=\"T_be878_row8_col0\" class=\"data row8 col0\" >299960</td>\n",
       "      <td id=\"T_be878_row8_col1\" class=\"data row8 col1\" >plyground</td>\n",
       "      <td id=\"T_be878_row8_col2\" class=\"data row8 col2\" >7652</td>\n",
       "      <td id=\"T_be878_row8_col3\" class=\"data row8 col3\" >7653 kB</td>\n",
       "    </tr>\n",
       "    <tr>\n",
       "      <th id=\"T_be878_level0_row9\" class=\"row_heading level0 row9\" >9</th>\n",
       "      <td id=\"T_be878_row9_col0\" class=\"data row9 col0\" >398295</td>\n",
       "      <td id=\"T_be878_row9_col1\" class=\"data row9 col1\" >pgbench_test</td>\n",
       "      <td id=\"T_be878_row9_col2\" class=\"data row9 col2\" >23876</td>\n",
       "      <td id=\"T_be878_row9_col3\" class=\"data row9 col3\" >23 MB</td>\n",
       "    </tr>\n",
       "  </tbody>\n",
       "</table>\n"
      ],
      "text/plain": [
       "<pandas.io.formats.style.Styler at 0x71f0d6e136a0>"
      ]
     },
     "metadata": {},
     "output_type": "display_data"
    }
   ],
   "source": [
    "from IPython.display import display\n",
    "\n",
    "def execute_sql_query(con_str, sql_command):\n",
    "    try:\n",
    "        connection = create_connection(con_str)\n",
    "        df = pd.read_sql_query(sql_command, connection)\n",
    "        return df\n",
    "    except (SQLAlchemyError, ValueError) as e:\n",
    "        raise e\n",
    "    finally:\n",
    "        if connection:\n",
    "            connection.close()\n",
    "\n",
    "# Define your SQL query\n",
    "sql_command = \"\"\"\n",
    "SELECT \n",
    "    oid as db_id, \n",
    "    datname as database_name, \n",
    "    pg_database_size(datname) / 1024 as database_size_kb,\n",
    "    pg_size_pretty(pg_database_size(datname)) as db_size\n",
    "FROM pg_database \n",
    "WHERE datistemplate = false;\n",
    "\"\"\"\n",
    "\n",
    "try:\n",
    "    # Call the function with both the connection string and SQL query\n",
    "    df = execute_sql_query(con_str, sql_command)\n",
    "    \n",
    "    # Set display options\n",
    "    pd.set_option('display.max_columns', None)\n",
    "    pd.set_option('display.expand_frame_repr', False)\n",
    "    \n",
    "    # Style the DataFrame\n",
    "    styled_df = df.style.set_properties(**{'text-align': 'left'}) \\\n",
    "        .set_table_styles([dict(selector='th', props=[('text-align', 'center')])]) \\\n",
    "        .highlight_max(subset=['database_size_kb'], color='red')\n",
    "    \n",
    "    # Display the styled DataFrame\n",
    "    display(styled_df)\n",
    "    \n",
    "except Exception as e:\n",
    "    print(f\"An error occurred: {str(e)}\")\n",
    "    \n",
    "except Exception as e:\n",
    "    print(f\"An error occurred: {str(e)}\")\n",
    "\n"
   ]
  },
  {
   "cell_type": "code",
   "execution_count": 9,
   "metadata": {},
   "outputs": [
    {
     "name": "stdout",
     "output_type": "stream",
     "text": [
      "Opened Connection\n"
     ]
    },
    {
     "data": {
      "application/vnd.plotly.v1+json": {
       "config": {
        "plotlyServerURL": "https://plot.ly"
       },
       "data": [
        {
         "customdata": [
          [
           1375220
          ],
          [
           797316
          ],
          [
           775356
          ],
          [
           217228
          ],
          [
           212548
          ],
          [
           64548
          ]
         ],
         "domain": {
          "x": [
           0,
           1
          ],
          "y": [
           0,
           1
          ]
         },
         "hovertemplate": "database_name=%{label}<br>database_size_kb=%{customdata[0]}<extra></extra>",
         "labels": [
          "db_10",
          "demo",
          "postgres",
          "metis_ts_dev",
          "metis_1",
          "ALL_OTHER_DB"
         ],
         "legendgroup": "",
         "name": "",
         "showlegend": true,
         "textinfo": "percent+label",
         "textposition": "inside",
         "type": "pie",
         "values": [
          1375220,
          797316,
          775356,
          217228,
          212548,
          64548
         ]
        }
       ],
       "layout": {
        "legend": {
         "tracegroupgap": 0
        },
        "template": {
         "data": {
          "bar": [
           {
            "error_x": {
             "color": "#2a3f5f"
            },
            "error_y": {
             "color": "#2a3f5f"
            },
            "marker": {
             "line": {
              "color": "#E5ECF6",
              "width": 0.5
             },
             "pattern": {
              "fillmode": "overlay",
              "size": 10,
              "solidity": 0.2
             }
            },
            "type": "bar"
           }
          ],
          "barpolar": [
           {
            "marker": {
             "line": {
              "color": "#E5ECF6",
              "width": 0.5
             },
             "pattern": {
              "fillmode": "overlay",
              "size": 10,
              "solidity": 0.2
             }
            },
            "type": "barpolar"
           }
          ],
          "carpet": [
           {
            "aaxis": {
             "endlinecolor": "#2a3f5f",
             "gridcolor": "white",
             "linecolor": "white",
             "minorgridcolor": "white",
             "startlinecolor": "#2a3f5f"
            },
            "baxis": {
             "endlinecolor": "#2a3f5f",
             "gridcolor": "white",
             "linecolor": "white",
             "minorgridcolor": "white",
             "startlinecolor": "#2a3f5f"
            },
            "type": "carpet"
           }
          ],
          "choropleth": [
           {
            "colorbar": {
             "outlinewidth": 0,
             "ticks": ""
            },
            "type": "choropleth"
           }
          ],
          "contour": [
           {
            "colorbar": {
             "outlinewidth": 0,
             "ticks": ""
            },
            "colorscale": [
             [
              0,
              "#0d0887"
             ],
             [
              0.1111111111111111,
              "#46039f"
             ],
             [
              0.2222222222222222,
              "#7201a8"
             ],
             [
              0.3333333333333333,
              "#9c179e"
             ],
             [
              0.4444444444444444,
              "#bd3786"
             ],
             [
              0.5555555555555556,
              "#d8576b"
             ],
             [
              0.6666666666666666,
              "#ed7953"
             ],
             [
              0.7777777777777778,
              "#fb9f3a"
             ],
             [
              0.8888888888888888,
              "#fdca26"
             ],
             [
              1,
              "#f0f921"
             ]
            ],
            "type": "contour"
           }
          ],
          "contourcarpet": [
           {
            "colorbar": {
             "outlinewidth": 0,
             "ticks": ""
            },
            "type": "contourcarpet"
           }
          ],
          "heatmap": [
           {
            "colorbar": {
             "outlinewidth": 0,
             "ticks": ""
            },
            "colorscale": [
             [
              0,
              "#0d0887"
             ],
             [
              0.1111111111111111,
              "#46039f"
             ],
             [
              0.2222222222222222,
              "#7201a8"
             ],
             [
              0.3333333333333333,
              "#9c179e"
             ],
             [
              0.4444444444444444,
              "#bd3786"
             ],
             [
              0.5555555555555556,
              "#d8576b"
             ],
             [
              0.6666666666666666,
              "#ed7953"
             ],
             [
              0.7777777777777778,
              "#fb9f3a"
             ],
             [
              0.8888888888888888,
              "#fdca26"
             ],
             [
              1,
              "#f0f921"
             ]
            ],
            "type": "heatmap"
           }
          ],
          "heatmapgl": [
           {
            "colorbar": {
             "outlinewidth": 0,
             "ticks": ""
            },
            "colorscale": [
             [
              0,
              "#0d0887"
             ],
             [
              0.1111111111111111,
              "#46039f"
             ],
             [
              0.2222222222222222,
              "#7201a8"
             ],
             [
              0.3333333333333333,
              "#9c179e"
             ],
             [
              0.4444444444444444,
              "#bd3786"
             ],
             [
              0.5555555555555556,
              "#d8576b"
             ],
             [
              0.6666666666666666,
              "#ed7953"
             ],
             [
              0.7777777777777778,
              "#fb9f3a"
             ],
             [
              0.8888888888888888,
              "#fdca26"
             ],
             [
              1,
              "#f0f921"
             ]
            ],
            "type": "heatmapgl"
           }
          ],
          "histogram": [
           {
            "marker": {
             "pattern": {
              "fillmode": "overlay",
              "size": 10,
              "solidity": 0.2
             }
            },
            "type": "histogram"
           }
          ],
          "histogram2d": [
           {
            "colorbar": {
             "outlinewidth": 0,
             "ticks": ""
            },
            "colorscale": [
             [
              0,
              "#0d0887"
             ],
             [
              0.1111111111111111,
              "#46039f"
             ],
             [
              0.2222222222222222,
              "#7201a8"
             ],
             [
              0.3333333333333333,
              "#9c179e"
             ],
             [
              0.4444444444444444,
              "#bd3786"
             ],
             [
              0.5555555555555556,
              "#d8576b"
             ],
             [
              0.6666666666666666,
              "#ed7953"
             ],
             [
              0.7777777777777778,
              "#fb9f3a"
             ],
             [
              0.8888888888888888,
              "#fdca26"
             ],
             [
              1,
              "#f0f921"
             ]
            ],
            "type": "histogram2d"
           }
          ],
          "histogram2dcontour": [
           {
            "colorbar": {
             "outlinewidth": 0,
             "ticks": ""
            },
            "colorscale": [
             [
              0,
              "#0d0887"
             ],
             [
              0.1111111111111111,
              "#46039f"
             ],
             [
              0.2222222222222222,
              "#7201a8"
             ],
             [
              0.3333333333333333,
              "#9c179e"
             ],
             [
              0.4444444444444444,
              "#bd3786"
             ],
             [
              0.5555555555555556,
              "#d8576b"
             ],
             [
              0.6666666666666666,
              "#ed7953"
             ],
             [
              0.7777777777777778,
              "#fb9f3a"
             ],
             [
              0.8888888888888888,
              "#fdca26"
             ],
             [
              1,
              "#f0f921"
             ]
            ],
            "type": "histogram2dcontour"
           }
          ],
          "mesh3d": [
           {
            "colorbar": {
             "outlinewidth": 0,
             "ticks": ""
            },
            "type": "mesh3d"
           }
          ],
          "parcoords": [
           {
            "line": {
             "colorbar": {
              "outlinewidth": 0,
              "ticks": ""
             }
            },
            "type": "parcoords"
           }
          ],
          "pie": [
           {
            "automargin": true,
            "type": "pie"
           }
          ],
          "scatter": [
           {
            "fillpattern": {
             "fillmode": "overlay",
             "size": 10,
             "solidity": 0.2
            },
            "type": "scatter"
           }
          ],
          "scatter3d": [
           {
            "line": {
             "colorbar": {
              "outlinewidth": 0,
              "ticks": ""
             }
            },
            "marker": {
             "colorbar": {
              "outlinewidth": 0,
              "ticks": ""
             }
            },
            "type": "scatter3d"
           }
          ],
          "scattercarpet": [
           {
            "marker": {
             "colorbar": {
              "outlinewidth": 0,
              "ticks": ""
             }
            },
            "type": "scattercarpet"
           }
          ],
          "scattergeo": [
           {
            "marker": {
             "colorbar": {
              "outlinewidth": 0,
              "ticks": ""
             }
            },
            "type": "scattergeo"
           }
          ],
          "scattergl": [
           {
            "marker": {
             "colorbar": {
              "outlinewidth": 0,
              "ticks": ""
             }
            },
            "type": "scattergl"
           }
          ],
          "scattermapbox": [
           {
            "marker": {
             "colorbar": {
              "outlinewidth": 0,
              "ticks": ""
             }
            },
            "type": "scattermapbox"
           }
          ],
          "scatterpolar": [
           {
            "marker": {
             "colorbar": {
              "outlinewidth": 0,
              "ticks": ""
             }
            },
            "type": "scatterpolar"
           }
          ],
          "scatterpolargl": [
           {
            "marker": {
             "colorbar": {
              "outlinewidth": 0,
              "ticks": ""
             }
            },
            "type": "scatterpolargl"
           }
          ],
          "scatterternary": [
           {
            "marker": {
             "colorbar": {
              "outlinewidth": 0,
              "ticks": ""
             }
            },
            "type": "scatterternary"
           }
          ],
          "surface": [
           {
            "colorbar": {
             "outlinewidth": 0,
             "ticks": ""
            },
            "colorscale": [
             [
              0,
              "#0d0887"
             ],
             [
              0.1111111111111111,
              "#46039f"
             ],
             [
              0.2222222222222222,
              "#7201a8"
             ],
             [
              0.3333333333333333,
              "#9c179e"
             ],
             [
              0.4444444444444444,
              "#bd3786"
             ],
             [
              0.5555555555555556,
              "#d8576b"
             ],
             [
              0.6666666666666666,
              "#ed7953"
             ],
             [
              0.7777777777777778,
              "#fb9f3a"
             ],
             [
              0.8888888888888888,
              "#fdca26"
             ],
             [
              1,
              "#f0f921"
             ]
            ],
            "type": "surface"
           }
          ],
          "table": [
           {
            "cells": {
             "fill": {
              "color": "#EBF0F8"
             },
             "line": {
              "color": "white"
             }
            },
            "header": {
             "fill": {
              "color": "#C8D4E3"
             },
             "line": {
              "color": "white"
             }
            },
            "type": "table"
           }
          ]
         },
         "layout": {
          "annotationdefaults": {
           "arrowcolor": "#2a3f5f",
           "arrowhead": 0,
           "arrowwidth": 1
          },
          "autotypenumbers": "strict",
          "coloraxis": {
           "colorbar": {
            "outlinewidth": 0,
            "ticks": ""
           }
          },
          "colorscale": {
           "diverging": [
            [
             0,
             "#8e0152"
            ],
            [
             0.1,
             "#c51b7d"
            ],
            [
             0.2,
             "#de77ae"
            ],
            [
             0.3,
             "#f1b6da"
            ],
            [
             0.4,
             "#fde0ef"
            ],
            [
             0.5,
             "#f7f7f7"
            ],
            [
             0.6,
             "#e6f5d0"
            ],
            [
             0.7,
             "#b8e186"
            ],
            [
             0.8,
             "#7fbc41"
            ],
            [
             0.9,
             "#4d9221"
            ],
            [
             1,
             "#276419"
            ]
           ],
           "sequential": [
            [
             0,
             "#0d0887"
            ],
            [
             0.1111111111111111,
             "#46039f"
            ],
            [
             0.2222222222222222,
             "#7201a8"
            ],
            [
             0.3333333333333333,
             "#9c179e"
            ],
            [
             0.4444444444444444,
             "#bd3786"
            ],
            [
             0.5555555555555556,
             "#d8576b"
            ],
            [
             0.6666666666666666,
             "#ed7953"
            ],
            [
             0.7777777777777778,
             "#fb9f3a"
            ],
            [
             0.8888888888888888,
             "#fdca26"
            ],
            [
             1,
             "#f0f921"
            ]
           ],
           "sequentialminus": [
            [
             0,
             "#0d0887"
            ],
            [
             0.1111111111111111,
             "#46039f"
            ],
            [
             0.2222222222222222,
             "#7201a8"
            ],
            [
             0.3333333333333333,
             "#9c179e"
            ],
            [
             0.4444444444444444,
             "#bd3786"
            ],
            [
             0.5555555555555556,
             "#d8576b"
            ],
            [
             0.6666666666666666,
             "#ed7953"
            ],
            [
             0.7777777777777778,
             "#fb9f3a"
            ],
            [
             0.8888888888888888,
             "#fdca26"
            ],
            [
             1,
             "#f0f921"
            ]
           ]
          },
          "colorway": [
           "#636efa",
           "#EF553B",
           "#00cc96",
           "#ab63fa",
           "#FFA15A",
           "#19d3f3",
           "#FF6692",
           "#B6E880",
           "#FF97FF",
           "#FECB52"
          ],
          "font": {
           "color": "#2a3f5f"
          },
          "geo": {
           "bgcolor": "white",
           "lakecolor": "white",
           "landcolor": "#E5ECF6",
           "showlakes": true,
           "showland": true,
           "subunitcolor": "white"
          },
          "hoverlabel": {
           "align": "left"
          },
          "hovermode": "closest",
          "mapbox": {
           "style": "light"
          },
          "paper_bgcolor": "white",
          "plot_bgcolor": "#E5ECF6",
          "polar": {
           "angularaxis": {
            "gridcolor": "white",
            "linecolor": "white",
            "ticks": ""
           },
           "bgcolor": "#E5ECF6",
           "radialaxis": {
            "gridcolor": "white",
            "linecolor": "white",
            "ticks": ""
           }
          },
          "scene": {
           "xaxis": {
            "backgroundcolor": "#E5ECF6",
            "gridcolor": "white",
            "gridwidth": 2,
            "linecolor": "white",
            "showbackground": true,
            "ticks": "",
            "zerolinecolor": "white"
           },
           "yaxis": {
            "backgroundcolor": "#E5ECF6",
            "gridcolor": "white",
            "gridwidth": 2,
            "linecolor": "white",
            "showbackground": true,
            "ticks": "",
            "zerolinecolor": "white"
           },
           "zaxis": {
            "backgroundcolor": "#E5ECF6",
            "gridcolor": "white",
            "gridwidth": 2,
            "linecolor": "white",
            "showbackground": true,
            "ticks": "",
            "zerolinecolor": "white"
           }
          },
          "shapedefaults": {
           "line": {
            "color": "#2a3f5f"
           }
          },
          "ternary": {
           "aaxis": {
            "gridcolor": "white",
            "linecolor": "white",
            "ticks": ""
           },
           "baxis": {
            "gridcolor": "white",
            "linecolor": "white",
            "ticks": ""
           },
           "bgcolor": "#E5ECF6",
           "caxis": {
            "gridcolor": "white",
            "linecolor": "white",
            "ticks": ""
           }
          },
          "title": {
           "x": 0.05
          },
          "xaxis": {
           "automargin": true,
           "gridcolor": "white",
           "linecolor": "white",
           "ticks": "",
           "title": {
            "standoff": 15
           },
           "zerolinecolor": "white",
           "zerolinewidth": 2
          },
          "yaxis": {
           "automargin": true,
           "gridcolor": "white",
           "linecolor": "white",
           "ticks": "",
           "title": {
            "standoff": 15
           },
           "zerolinecolor": "white",
           "zerolinewidth": 2
          }
         }
        },
        "title": {
         "text": "Database Sizes (Top 5 and Others)"
        },
        "uniformtext": {
         "minsize": 12,
         "mode": "hide"
        }
       }
      },
      "text/html": [
       "<div>                            <div id=\"7eb561d0-3d3c-4e12-9966-4a2bfe371660\" class=\"plotly-graph-div\" style=\"height:525px; width:100%;\"></div>            <script type=\"text/javascript\">                require([\"plotly\"], function(Plotly) {                    window.PLOTLYENV=window.PLOTLYENV || {};                                    if (document.getElementById(\"7eb561d0-3d3c-4e12-9966-4a2bfe371660\")) {                    Plotly.newPlot(                        \"7eb561d0-3d3c-4e12-9966-4a2bfe371660\",                        [{\"customdata\":[[1375220],[797316],[775356],[217228],[212548],[64548]],\"domain\":{\"x\":[0.0,1.0],\"y\":[0.0,1.0]},\"hovertemplate\":\"database_name=%{label}\\u003cbr\\u003edatabase_size_kb=%{customdata[0]}\\u003cextra\\u003e\\u003c\\u002fextra\\u003e\",\"labels\":[\"db_10\",\"demo\",\"postgres\",\"metis_ts_dev\",\"metis_1\",\"ALL_OTHER_DB\"],\"legendgroup\":\"\",\"name\":\"\",\"showlegend\":true,\"values\":[1375220,797316,775356,217228,212548,64548],\"type\":\"pie\",\"textinfo\":\"percent+label\",\"textposition\":\"inside\"}],                        {\"template\":{\"data\":{\"histogram2dcontour\":[{\"type\":\"histogram2dcontour\",\"colorbar\":{\"outlinewidth\":0,\"ticks\":\"\"},\"colorscale\":[[0.0,\"#0d0887\"],[0.1111111111111111,\"#46039f\"],[0.2222222222222222,\"#7201a8\"],[0.3333333333333333,\"#9c179e\"],[0.4444444444444444,\"#bd3786\"],[0.5555555555555556,\"#d8576b\"],[0.6666666666666666,\"#ed7953\"],[0.7777777777777778,\"#fb9f3a\"],[0.8888888888888888,\"#fdca26\"],[1.0,\"#f0f921\"]]}],\"choropleth\":[{\"type\":\"choropleth\",\"colorbar\":{\"outlinewidth\":0,\"ticks\":\"\"}}],\"histogram2d\":[{\"type\":\"histogram2d\",\"colorbar\":{\"outlinewidth\":0,\"ticks\":\"\"},\"colorscale\":[[0.0,\"#0d0887\"],[0.1111111111111111,\"#46039f\"],[0.2222222222222222,\"#7201a8\"],[0.3333333333333333,\"#9c179e\"],[0.4444444444444444,\"#bd3786\"],[0.5555555555555556,\"#d8576b\"],[0.6666666666666666,\"#ed7953\"],[0.7777777777777778,\"#fb9f3a\"],[0.8888888888888888,\"#fdca26\"],[1.0,\"#f0f921\"]]}],\"heatmap\":[{\"type\":\"heatmap\",\"colorbar\":{\"outlinewidth\":0,\"ticks\":\"\"},\"colorscale\":[[0.0,\"#0d0887\"],[0.1111111111111111,\"#46039f\"],[0.2222222222222222,\"#7201a8\"],[0.3333333333333333,\"#9c179e\"],[0.4444444444444444,\"#bd3786\"],[0.5555555555555556,\"#d8576b\"],[0.6666666666666666,\"#ed7953\"],[0.7777777777777778,\"#fb9f3a\"],[0.8888888888888888,\"#fdca26\"],[1.0,\"#f0f921\"]]}],\"heatmapgl\":[{\"type\":\"heatmapgl\",\"colorbar\":{\"outlinewidth\":0,\"ticks\":\"\"},\"colorscale\":[[0.0,\"#0d0887\"],[0.1111111111111111,\"#46039f\"],[0.2222222222222222,\"#7201a8\"],[0.3333333333333333,\"#9c179e\"],[0.4444444444444444,\"#bd3786\"],[0.5555555555555556,\"#d8576b\"],[0.6666666666666666,\"#ed7953\"],[0.7777777777777778,\"#fb9f3a\"],[0.8888888888888888,\"#fdca26\"],[1.0,\"#f0f921\"]]}],\"contourcarpet\":[{\"type\":\"contourcarpet\",\"colorbar\":{\"outlinewidth\":0,\"ticks\":\"\"}}],\"contour\":[{\"type\":\"contour\",\"colorbar\":{\"outlinewidth\":0,\"ticks\":\"\"},\"colorscale\":[[0.0,\"#0d0887\"],[0.1111111111111111,\"#46039f\"],[0.2222222222222222,\"#7201a8\"],[0.3333333333333333,\"#9c179e\"],[0.4444444444444444,\"#bd3786\"],[0.5555555555555556,\"#d8576b\"],[0.6666666666666666,\"#ed7953\"],[0.7777777777777778,\"#fb9f3a\"],[0.8888888888888888,\"#fdca26\"],[1.0,\"#f0f921\"]]}],\"surface\":[{\"type\":\"surface\",\"colorbar\":{\"outlinewidth\":0,\"ticks\":\"\"},\"colorscale\":[[0.0,\"#0d0887\"],[0.1111111111111111,\"#46039f\"],[0.2222222222222222,\"#7201a8\"],[0.3333333333333333,\"#9c179e\"],[0.4444444444444444,\"#bd3786\"],[0.5555555555555556,\"#d8576b\"],[0.6666666666666666,\"#ed7953\"],[0.7777777777777778,\"#fb9f3a\"],[0.8888888888888888,\"#fdca26\"],[1.0,\"#f0f921\"]]}],\"mesh3d\":[{\"type\":\"mesh3d\",\"colorbar\":{\"outlinewidth\":0,\"ticks\":\"\"}}],\"scatter\":[{\"fillpattern\":{\"fillmode\":\"overlay\",\"size\":10,\"solidity\":0.2},\"type\":\"scatter\"}],\"parcoords\":[{\"type\":\"parcoords\",\"line\":{\"colorbar\":{\"outlinewidth\":0,\"ticks\":\"\"}}}],\"scatterpolargl\":[{\"type\":\"scatterpolargl\",\"marker\":{\"colorbar\":{\"outlinewidth\":0,\"ticks\":\"\"}}}],\"bar\":[{\"error_x\":{\"color\":\"#2a3f5f\"},\"error_y\":{\"color\":\"#2a3f5f\"},\"marker\":{\"line\":{\"color\":\"#E5ECF6\",\"width\":0.5},\"pattern\":{\"fillmode\":\"overlay\",\"size\":10,\"solidity\":0.2}},\"type\":\"bar\"}],\"scattergeo\":[{\"type\":\"scattergeo\",\"marker\":{\"colorbar\":{\"outlinewidth\":0,\"ticks\":\"\"}}}],\"scatterpolar\":[{\"type\":\"scatterpolar\",\"marker\":{\"colorbar\":{\"outlinewidth\":0,\"ticks\":\"\"}}}],\"histogram\":[{\"marker\":{\"pattern\":{\"fillmode\":\"overlay\",\"size\":10,\"solidity\":0.2}},\"type\":\"histogram\"}],\"scattergl\":[{\"type\":\"scattergl\",\"marker\":{\"colorbar\":{\"outlinewidth\":0,\"ticks\":\"\"}}}],\"scatter3d\":[{\"type\":\"scatter3d\",\"line\":{\"colorbar\":{\"outlinewidth\":0,\"ticks\":\"\"}},\"marker\":{\"colorbar\":{\"outlinewidth\":0,\"ticks\":\"\"}}}],\"scattermapbox\":[{\"type\":\"scattermapbox\",\"marker\":{\"colorbar\":{\"outlinewidth\":0,\"ticks\":\"\"}}}],\"scatterternary\":[{\"type\":\"scatterternary\",\"marker\":{\"colorbar\":{\"outlinewidth\":0,\"ticks\":\"\"}}}],\"scattercarpet\":[{\"type\":\"scattercarpet\",\"marker\":{\"colorbar\":{\"outlinewidth\":0,\"ticks\":\"\"}}}],\"carpet\":[{\"aaxis\":{\"endlinecolor\":\"#2a3f5f\",\"gridcolor\":\"white\",\"linecolor\":\"white\",\"minorgridcolor\":\"white\",\"startlinecolor\":\"#2a3f5f\"},\"baxis\":{\"endlinecolor\":\"#2a3f5f\",\"gridcolor\":\"white\",\"linecolor\":\"white\",\"minorgridcolor\":\"white\",\"startlinecolor\":\"#2a3f5f\"},\"type\":\"carpet\"}],\"table\":[{\"cells\":{\"fill\":{\"color\":\"#EBF0F8\"},\"line\":{\"color\":\"white\"}},\"header\":{\"fill\":{\"color\":\"#C8D4E3\"},\"line\":{\"color\":\"white\"}},\"type\":\"table\"}],\"barpolar\":[{\"marker\":{\"line\":{\"color\":\"#E5ECF6\",\"width\":0.5},\"pattern\":{\"fillmode\":\"overlay\",\"size\":10,\"solidity\":0.2}},\"type\":\"barpolar\"}],\"pie\":[{\"automargin\":true,\"type\":\"pie\"}]},\"layout\":{\"autotypenumbers\":\"strict\",\"colorway\":[\"#636efa\",\"#EF553B\",\"#00cc96\",\"#ab63fa\",\"#FFA15A\",\"#19d3f3\",\"#FF6692\",\"#B6E880\",\"#FF97FF\",\"#FECB52\"],\"font\":{\"color\":\"#2a3f5f\"},\"hovermode\":\"closest\",\"hoverlabel\":{\"align\":\"left\"},\"paper_bgcolor\":\"white\",\"plot_bgcolor\":\"#E5ECF6\",\"polar\":{\"bgcolor\":\"#E5ECF6\",\"angularaxis\":{\"gridcolor\":\"white\",\"linecolor\":\"white\",\"ticks\":\"\"},\"radialaxis\":{\"gridcolor\":\"white\",\"linecolor\":\"white\",\"ticks\":\"\"}},\"ternary\":{\"bgcolor\":\"#E5ECF6\",\"aaxis\":{\"gridcolor\":\"white\",\"linecolor\":\"white\",\"ticks\":\"\"},\"baxis\":{\"gridcolor\":\"white\",\"linecolor\":\"white\",\"ticks\":\"\"},\"caxis\":{\"gridcolor\":\"white\",\"linecolor\":\"white\",\"ticks\":\"\"}},\"coloraxis\":{\"colorbar\":{\"outlinewidth\":0,\"ticks\":\"\"}},\"colorscale\":{\"sequential\":[[0.0,\"#0d0887\"],[0.1111111111111111,\"#46039f\"],[0.2222222222222222,\"#7201a8\"],[0.3333333333333333,\"#9c179e\"],[0.4444444444444444,\"#bd3786\"],[0.5555555555555556,\"#d8576b\"],[0.6666666666666666,\"#ed7953\"],[0.7777777777777778,\"#fb9f3a\"],[0.8888888888888888,\"#fdca26\"],[1.0,\"#f0f921\"]],\"sequentialminus\":[[0.0,\"#0d0887\"],[0.1111111111111111,\"#46039f\"],[0.2222222222222222,\"#7201a8\"],[0.3333333333333333,\"#9c179e\"],[0.4444444444444444,\"#bd3786\"],[0.5555555555555556,\"#d8576b\"],[0.6666666666666666,\"#ed7953\"],[0.7777777777777778,\"#fb9f3a\"],[0.8888888888888888,\"#fdca26\"],[1.0,\"#f0f921\"]],\"diverging\":[[0,\"#8e0152\"],[0.1,\"#c51b7d\"],[0.2,\"#de77ae\"],[0.3,\"#f1b6da\"],[0.4,\"#fde0ef\"],[0.5,\"#f7f7f7\"],[0.6,\"#e6f5d0\"],[0.7,\"#b8e186\"],[0.8,\"#7fbc41\"],[0.9,\"#4d9221\"],[1,\"#276419\"]]},\"xaxis\":{\"gridcolor\":\"white\",\"linecolor\":\"white\",\"ticks\":\"\",\"title\":{\"standoff\":15},\"zerolinecolor\":\"white\",\"automargin\":true,\"zerolinewidth\":2},\"yaxis\":{\"gridcolor\":\"white\",\"linecolor\":\"white\",\"ticks\":\"\",\"title\":{\"standoff\":15},\"zerolinecolor\":\"white\",\"automargin\":true,\"zerolinewidth\":2},\"scene\":{\"xaxis\":{\"backgroundcolor\":\"#E5ECF6\",\"gridcolor\":\"white\",\"linecolor\":\"white\",\"showbackground\":true,\"ticks\":\"\",\"zerolinecolor\":\"white\",\"gridwidth\":2},\"yaxis\":{\"backgroundcolor\":\"#E5ECF6\",\"gridcolor\":\"white\",\"linecolor\":\"white\",\"showbackground\":true,\"ticks\":\"\",\"zerolinecolor\":\"white\",\"gridwidth\":2},\"zaxis\":{\"backgroundcolor\":\"#E5ECF6\",\"gridcolor\":\"white\",\"linecolor\":\"white\",\"showbackground\":true,\"ticks\":\"\",\"zerolinecolor\":\"white\",\"gridwidth\":2}},\"shapedefaults\":{\"line\":{\"color\":\"#2a3f5f\"}},\"annotationdefaults\":{\"arrowcolor\":\"#2a3f5f\",\"arrowhead\":0,\"arrowwidth\":1},\"geo\":{\"bgcolor\":\"white\",\"landcolor\":\"#E5ECF6\",\"subunitcolor\":\"white\",\"showland\":true,\"showlakes\":true,\"lakecolor\":\"white\"},\"title\":{\"x\":0.05},\"mapbox\":{\"style\":\"light\"}}},\"legend\":{\"tracegroupgap\":0},\"title\":{\"text\":\"Database Sizes (Top 5 and Others)\"},\"uniformtext\":{\"minsize\":12,\"mode\":\"hide\"}},                        {\"responsive\": true}                    ).then(function(){\n",
       "                            \n",
       "var gd = document.getElementById('7eb561d0-3d3c-4e12-9966-4a2bfe371660');\n",
       "var x = new MutationObserver(function (mutations, observer) {{\n",
       "        var display = window.getComputedStyle(gd).display;\n",
       "        if (!display || display === 'none') {{\n",
       "            console.log([gd, 'removed!']);\n",
       "            Plotly.purge(gd);\n",
       "            observer.disconnect();\n",
       "        }}\n",
       "}});\n",
       "\n",
       "// Listen for the removal of the full notebook cells\n",
       "var notebookContainer = gd.closest('#notebook-container');\n",
       "if (notebookContainer) {{\n",
       "    x.observe(notebookContainer, {childList: true});\n",
       "}}\n",
       "\n",
       "// Listen for the clearing of the current output cell\n",
       "var outputEl = gd.closest('.output');\n",
       "if (outputEl) {{\n",
       "    x.observe(outputEl, {childList: true});\n",
       "}}\n",
       "\n",
       "                        })                };                });            </script>        </div>"
      ]
     },
     "metadata": {},
     "output_type": "display_data"
    },
    {
     "data": {
      "text/html": [
       "<style type=\"text/css\">\n",
       "#T_e6d79 th {\n",
       "  text-align: center;\n",
       "}\n",
       "#T_e6d79_row0_col0, #T_e6d79_row0_col1, #T_e6d79_row0_col2, #T_e6d79_row0_col3, #T_e6d79_row1_col0, #T_e6d79_row1_col1, #T_e6d79_row1_col2, #T_e6d79_row1_col3, #T_e6d79_row2_col0, #T_e6d79_row2_col1, #T_e6d79_row2_col2, #T_e6d79_row2_col3, #T_e6d79_row3_col0, #T_e6d79_row3_col1, #T_e6d79_row3_col2, #T_e6d79_row3_col3, #T_e6d79_row4_col0, #T_e6d79_row4_col1, #T_e6d79_row4_col2, #T_e6d79_row4_col3, #T_e6d79_row5_col0, #T_e6d79_row5_col1, #T_e6d79_row5_col3, #T_e6d79_row6_col0, #T_e6d79_row6_col1, #T_e6d79_row6_col2, #T_e6d79_row6_col3, #T_e6d79_row7_col0, #T_e6d79_row7_col1, #T_e6d79_row7_col2, #T_e6d79_row7_col3, #T_e6d79_row8_col0, #T_e6d79_row8_col1, #T_e6d79_row8_col2, #T_e6d79_row8_col3, #T_e6d79_row9_col0, #T_e6d79_row9_col1, #T_e6d79_row9_col2, #T_e6d79_row9_col3 {\n",
       "  text-align: left;\n",
       "}\n",
       "#T_e6d79_row5_col2 {\n",
       "  text-align: left;\n",
       "  background-color: red;\n",
       "}\n",
       "</style>\n",
       "<table id=\"T_e6d79\">\n",
       "  <thead>\n",
       "    <tr>\n",
       "      <th class=\"blank level0\" >&nbsp;</th>\n",
       "      <th id=\"T_e6d79_level0_col0\" class=\"col_heading level0 col0\" >db_id</th>\n",
       "      <th id=\"T_e6d79_level0_col1\" class=\"col_heading level0 col1\" >database_name</th>\n",
       "      <th id=\"T_e6d79_level0_col2\" class=\"col_heading level0 col2\" >database_size_kb</th>\n",
       "      <th id=\"T_e6d79_level0_col3\" class=\"col_heading level0 col3\" >db_size</th>\n",
       "    </tr>\n",
       "  </thead>\n",
       "  <tbody>\n",
       "    <tr>\n",
       "      <th id=\"T_e6d79_level0_row0\" class=\"row_heading level0 row0\" >0</th>\n",
       "      <td id=\"T_e6d79_row0_col0\" class=\"data row0 col0\" >5</td>\n",
       "      <td id=\"T_e6d79_row0_col1\" class=\"data row0 col1\" >postgres</td>\n",
       "      <td id=\"T_e6d79_row0_col2\" class=\"data row0 col2\" >775356</td>\n",
       "      <td id=\"T_e6d79_row0_col3\" class=\"data row0 col3\" >757 MB</td>\n",
       "    </tr>\n",
       "    <tr>\n",
       "      <th id=\"T_e6d79_level0_row1\" class=\"row_heading level0 row1\" >1</th>\n",
       "      <td id=\"T_e6d79_row1_col0\" class=\"data row1 col0\" >16385</td>\n",
       "      <td id=\"T_e6d79_row1_col1\" class=\"data row1 col1\" >app</td>\n",
       "      <td id=\"T_e6d79_row1_col2\" class=\"data row1 col2\" >7524</td>\n",
       "      <td id=\"T_e6d79_row1_col3\" class=\"data row1 col3\" >7525 kB</td>\n",
       "    </tr>\n",
       "    <tr>\n",
       "      <th id=\"T_e6d79_level0_row2\" class=\"row_heading level0 row2\" >2</th>\n",
       "      <td id=\"T_e6d79_row2_col0\" class=\"data row2 col0\" >19236</td>\n",
       "      <td id=\"T_e6d79_row2_col1\" class=\"data row2 col1\" >metis_ts_dev</td>\n",
       "      <td id=\"T_e6d79_row2_col2\" class=\"data row2 col2\" >217228</td>\n",
       "      <td id=\"T_e6d79_row2_col3\" class=\"data row2 col3\" >212 MB</td>\n",
       "    </tr>\n",
       "    <tr>\n",
       "      <th id=\"T_e6d79_level0_row3\" class=\"row_heading level0 row3\" >3</th>\n",
       "      <td id=\"T_e6d79_row3_col0\" class=\"data row3 col0\" >144092</td>\n",
       "      <td id=\"T_e6d79_row3_col1\" class=\"data row3 col1\" >metis</td>\n",
       "      <td id=\"T_e6d79_row3_col2\" class=\"data row3 col2\" >7612</td>\n",
       "      <td id=\"T_e6d79_row3_col3\" class=\"data row3 col3\" >7613 kB</td>\n",
       "    </tr>\n",
       "    <tr>\n",
       "      <th id=\"T_e6d79_level0_row4\" class=\"row_heading level0 row4\" >4</th>\n",
       "      <td id=\"T_e6d79_row4_col0\" class=\"data row4 col0\" >16556</td>\n",
       "      <td id=\"T_e6d79_row4_col1\" class=\"data row4 col1\" >demo</td>\n",
       "      <td id=\"T_e6d79_row4_col2\" class=\"data row4 col2\" >797316</td>\n",
       "      <td id=\"T_e6d79_row4_col3\" class=\"data row4 col3\" >779 MB</td>\n",
       "    </tr>\n",
       "    <tr>\n",
       "      <th id=\"T_e6d79_level0_row5\" class=\"row_heading level0 row5\" >5</th>\n",
       "      <td id=\"T_e6d79_row5_col0\" class=\"data row5 col0\" >185112</td>\n",
       "      <td id=\"T_e6d79_row5_col1\" class=\"data row5 col1\" >db_10</td>\n",
       "      <td id=\"T_e6d79_row5_col2\" class=\"data row5 col2\" >1375220</td>\n",
       "      <td id=\"T_e6d79_row5_col3\" class=\"data row5 col3\" >1343 MB</td>\n",
       "    </tr>\n",
       "    <tr>\n",
       "      <th id=\"T_e6d79_level0_row6\" class=\"row_heading level0 row6\" >6</th>\n",
       "      <td id=\"T_e6d79_row6_col0\" class=\"data row6 col0\" >193461</td>\n",
       "      <td id=\"T_e6d79_row6_col1\" class=\"data row6 col1\" >metis_1</td>\n",
       "      <td id=\"T_e6d79_row6_col2\" class=\"data row6 col2\" >212548</td>\n",
       "      <td id=\"T_e6d79_row6_col3\" class=\"data row6 col3\" >208 MB</td>\n",
       "    </tr>\n",
       "    <tr>\n",
       "      <th id=\"T_e6d79_level0_row7\" class=\"row_heading level0 row7\" >7</th>\n",
       "      <td id=\"T_e6d79_row7_col0\" class=\"data row7 col0\" >275674</td>\n",
       "      <td id=\"T_e6d79_row7_col1\" class=\"data row7 col1\" >dvdrental</td>\n",
       "      <td id=\"T_e6d79_row7_col2\" class=\"data row7 col2\" >17884</td>\n",
       "      <td id=\"T_e6d79_row7_col3\" class=\"data row7 col3\" >17 MB</td>\n",
       "    </tr>\n",
       "    <tr>\n",
       "      <th id=\"T_e6d79_level0_row8\" class=\"row_heading level0 row8\" >8</th>\n",
       "      <td id=\"T_e6d79_row8_col0\" class=\"data row8 col0\" >299960</td>\n",
       "      <td id=\"T_e6d79_row8_col1\" class=\"data row8 col1\" >plyground</td>\n",
       "      <td id=\"T_e6d79_row8_col2\" class=\"data row8 col2\" >7652</td>\n",
       "      <td id=\"T_e6d79_row8_col3\" class=\"data row8 col3\" >7653 kB</td>\n",
       "    </tr>\n",
       "    <tr>\n",
       "      <th id=\"T_e6d79_level0_row9\" class=\"row_heading level0 row9\" >9</th>\n",
       "      <td id=\"T_e6d79_row9_col0\" class=\"data row9 col0\" >398295</td>\n",
       "      <td id=\"T_e6d79_row9_col1\" class=\"data row9 col1\" >pgbench_test</td>\n",
       "      <td id=\"T_e6d79_row9_col2\" class=\"data row9 col2\" >23876</td>\n",
       "      <td id=\"T_e6d79_row9_col3\" class=\"data row9 col3\" >23 MB</td>\n",
       "    </tr>\n",
       "  </tbody>\n",
       "</table>\n"
      ],
      "text/plain": [
       "<pandas.io.formats.style.Styler at 0x71f0d7a738e0>"
      ]
     },
     "metadata": {},
     "output_type": "display_data"
    }
   ],
   "source": [
    "import pandas as pd\n",
    "import plotly.express as px\n",
    "from IPython.display import display\n",
    "\n",
    "try:\n",
    "    # Call the function with both the connection string and SQL query\n",
    "    df = execute_sql_query(con_str, sql_command)\n",
    "    \n",
    "    # Sort the dataframe by size in descending order\n",
    "    df_sorted = df.sort_values('database_size_kb', ascending=False)\n",
    "    \n",
    "    # Get the top 5 databases\n",
    "    top_5 = df_sorted.head(5)\n",
    "    \n",
    "    # Calculate the sum of the rest\n",
    "    other_sum = df_sorted.iloc[5:]['database_size_kb'].sum()\n",
    "    \n",
    "    # Create a new dataframe for the pie chart\n",
    "    other_df = pd.DataFrame({'database_name': ['ALL_OTHER_DB'], 'database_size_kb': [other_sum]})\n",
    "    pie_data = pd.concat([top_5, other_df], ignore_index=True)\n",
    "    \n",
    "    # Create the pie chart using Plotly Express\n",
    "    fig = px.pie(pie_data, \n",
    "                 values='database_size_kb', \n",
    "                 names='database_name', \n",
    "                 title='Database Sizes (Top 5 and Others)',\n",
    "                 hover_data=['database_size_kb'])\n",
    "    \n",
    "    # Update the layout for better readability\n",
    "    fig.update_traces(textposition='inside', textinfo='percent+label')\n",
    "    fig.update_layout(uniformtext_minsize=12, uniformtext_mode='hide')\n",
    "    \n",
    "    # Display the pie chart\n",
    "    fig.show()\n",
    "    \n",
    "    # Display the original dataframe as a styled table\n",
    "    styled_df = df.style.set_properties(**{'text-align': 'left'}) \\\n",
    "        .set_table_styles([dict(selector='th', props=[('text-align', 'center')])]) \\\n",
    "        .highlight_max(subset=['database_size_kb'], color='red')\n",
    "    \n",
    "    display(styled_df)\n",
    "    \n",
    "except Exception as e:\n",
    "    print(f\"An error occurred: {str(e)}\")"
   ]
  }
 ],
 "metadata": {
  "kernelspec": {
   "display_name": "base",
   "language": "python",
   "name": "python3"
  },
  "language_info": {
   "codemirror_mode": {
    "name": "ipython",
    "version": 3
   },
   "file_extension": ".py",
   "mimetype": "text/x-python",
   "name": "python",
   "nbconvert_exporter": "python",
   "pygments_lexer": "ipython3",
   "version": "3.10.13"
  }
 },
 "nbformat": 4,
 "nbformat_minor": 2
}
