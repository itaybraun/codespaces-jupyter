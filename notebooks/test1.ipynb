{
 "cells": [
  {
   "cell_type": "code",
   "execution_count": 5,
   "metadata": {},
   "outputs": [
    {
     "name": "stdout",
     "output_type": "stream",
     "text": [
      "Opened Connection\n",
      "Connection closed\n"
     ]
    }
   ],
   "source": [
    "import psycopg2\n",
    "import pandas as pd\n",
    "import configparser\n",
    "import matplotlib.pyplot as plt\n",
    "\n",
    "# Read from the Config file\n",
    "config = configparser.ConfigParser()\n",
    "config.read_file(open(r'../db_ops.cfg'))\n",
    "\n",
    "con_str = config.get('con_str', 'PG_AIRBASES') \n",
    "engine = sqlalchemy.create_engine(con_str)\n",
    "\n",
    "try:\n",
    "    connection = engine.connect()\n",
    "    print (\"Opened Connection\")\n",
    "except (Exception, sqlalchemy.exc.SQLAlchemyError) as error:\n",
    "    print(\"Error while connecting to PostgreSQL database:\", error)\n",
    "\n",
    "\n",
    "except (Exception, psycopg2.Error) as error:\n",
    "    print(\"Error while executing the query:\", error)\n",
    "finally:\n",
    "    # Close the connection\n",
    "    if connection:\n",
    "        connection.close()\n",
    "        print(\"Connection closed\")\n"
   ]
  }
 ],
 "metadata": {
  "kernelspec": {
   "display_name": "base",
   "language": "python",
   "name": "python3"
  },
  "language_info": {
   "codemirror_mode": {
    "name": "ipython",
    "version": 3
   },
   "file_extension": ".py",
   "mimetype": "text/x-python",
   "name": "python",
   "nbconvert_exporter": "python",
   "pygments_lexer": "ipython3",
   "version": "3.10.13"
  }
 },
 "nbformat": 4,
 "nbformat_minor": 2
}
